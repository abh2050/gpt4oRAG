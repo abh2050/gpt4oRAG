{
  "nbformat": 4,
  "nbformat_minor": 0,
  "metadata": {
    "colab": {
      "provenance": [],
      "gpuType": "T4",
      "authorship_tag": "ABX9TyN5LteFKOEca7AzpLKKVF9O",
      "include_colab_link": true
    },
    "kernelspec": {
      "name": "python3",
      "display_name": "Python 3"
    },
    "language_info": {
      "name": "python"
    },
    "accelerator": "GPU"
  },
  "cells": [
    {
      "cell_type": "markdown",
      "metadata": {
        "id": "view-in-github",
        "colab_type": "text"
      },
      "source": [
        "<a href=\"https://colab.research.google.com/github/abh2050/gpt4oRAG/blob/main/pinecone.ipynb\" target=\"_parent\"><img src=\"https://colab.research.google.com/assets/colab-badge.svg\" alt=\"Open In Colab\"/></a>"
      ]
    },
    {
      "cell_type": "code",
      "source": [
        "!pip install --upgrade --force-reinstall nltk\n",
        "import nltk\n",
        "nltk.download('punkt')"
      ],
      "metadata": {
        "colab": {
          "base_uri": "https://localhost:8080/"
        },
        "id": "9jir8Agmk_pi",
        "outputId": "cfa97588-550d-4428-dea2-a1bd68cd9c3c"
      },
      "execution_count": 1,
      "outputs": [
        {
          "output_type": "stream",
          "name": "stdout",
          "text": [
            "Collecting nltk\n",
            "  Using cached nltk-3.9.1-py3-none-any.whl.metadata (2.9 kB)\n",
            "Collecting click (from nltk)\n",
            "  Using cached click-8.1.7-py3-none-any.whl.metadata (3.0 kB)\n",
            "Collecting joblib (from nltk)\n",
            "  Using cached joblib-1.4.2-py3-none-any.whl.metadata (5.4 kB)\n",
            "Collecting regex>=2021.8.3 (from nltk)\n",
            "  Using cached regex-2024.7.24-cp310-cp310-manylinux_2_17_x86_64.manylinux2014_x86_64.whl.metadata (40 kB)\n",
            "Collecting tqdm (from nltk)\n",
            "  Using cached tqdm-4.66.5-py3-none-any.whl.metadata (57 kB)\n",
            "Using cached nltk-3.9.1-py3-none-any.whl (1.5 MB)\n",
            "Using cached regex-2024.7.24-cp310-cp310-manylinux_2_17_x86_64.manylinux2014_x86_64.whl (776 kB)\n",
            "Using cached click-8.1.7-py3-none-any.whl (97 kB)\n",
            "Using cached joblib-1.4.2-py3-none-any.whl (301 kB)\n",
            "Using cached tqdm-4.66.5-py3-none-any.whl (78 kB)\n",
            "Installing collected packages: tqdm, regex, joblib, click, nltk\n",
            "  Attempting uninstall: tqdm\n",
            "    Found existing installation: tqdm 4.66.5\n",
            "    Uninstalling tqdm-4.66.5:\n",
            "      Successfully uninstalled tqdm-4.66.5\n",
            "  Attempting uninstall: regex\n",
            "    Found existing installation: regex 2024.7.24\n",
            "    Uninstalling regex-2024.7.24:\n",
            "      Successfully uninstalled regex-2024.7.24\n",
            "  Attempting uninstall: joblib\n",
            "    Found existing installation: joblib 1.4.2\n",
            "    Uninstalling joblib-1.4.2:\n",
            "      Successfully uninstalled joblib-1.4.2\n",
            "  Attempting uninstall: click\n",
            "    Found existing installation: click 8.1.7\n",
            "    Uninstalling click-8.1.7:\n",
            "      Successfully uninstalled click-8.1.7\n",
            "  Attempting uninstall: nltk\n",
            "    Found existing installation: nltk 3.9.1\n",
            "    Uninstalling nltk-3.9.1:\n",
            "      Successfully uninstalled nltk-3.9.1\n",
            "Successfully installed click-8.1.7 joblib-1.4.2 nltk-3.9.1 regex-2024.7.24 tqdm-4.66.5\n"
          ]
        },
        {
          "output_type": "stream",
          "name": "stderr",
          "text": [
            "[nltk_data] Downloading package punkt to /root/nltk_data...\n",
            "[nltk_data]   Package punkt is already up-to-date!\n"
          ]
        },
        {
          "output_type": "execute_result",
          "data": {
            "text/plain": [
              "True"
            ]
          },
          "metadata": {},
          "execution_count": 1
        }
      ]
    },
    {
      "cell_type": "code",
      "execution_count": 2,
      "metadata": {
        "colab": {
          "base_uri": "https://localhost:8080/"
        },
        "id": "a_y8JN1Tdeyl",
        "outputId": "d0f9b129-becc-4b2a-f7b2-d6f08a1bf5d8"
      },
      "outputs": [
        {
          "output_type": "stream",
          "name": "stdout",
          "text": [
            "fatal: destination path 'portfolio' already exists and is not an empty directory.\n"
          ]
        }
      ],
      "source": [
        "!git clone https://github.com/zackproser/portfolio.git"
      ]
    },
    {
      "cell_type": "code",
      "source": [
        "!pip install \\\n",
        "langchain_community \\\n",
        "langchain_pinecone \\\n",
        "langchain_openai \\\n",
        "unstructured \\\n",
        "langchain-text-splitters"
      ],
      "metadata": {
        "colab": {
          "base_uri": "https://localhost:8080/"
        },
        "id": "twOxt-i4eLpC",
        "outputId": "b68c29ce-3eb1-4a88-c8e2-b883e11c75a9"
      },
      "execution_count": 3,
      "outputs": [
        {
          "output_type": "stream",
          "name": "stdout",
          "text": [
            "Requirement already satisfied: langchain_community in /usr/local/lib/python3.10/dist-packages (0.2.12)\n",
            "Requirement already satisfied: langchain_pinecone in /usr/local/lib/python3.10/dist-packages (0.1.3)\n",
            "Requirement already satisfied: langchain_openai in /usr/local/lib/python3.10/dist-packages (0.1.22)\n",
            "Requirement already satisfied: unstructured in /usr/local/lib/python3.10/dist-packages (0.15.7)\n",
            "Requirement already satisfied: langchain-text-splitters in /usr/local/lib/python3.10/dist-packages (0.2.2)\n",
            "Requirement already satisfied: PyYAML>=5.3 in /usr/local/lib/python3.10/dist-packages (from langchain_community) (6.0.2)\n",
            "Requirement already satisfied: SQLAlchemy<3,>=1.4 in /usr/local/lib/python3.10/dist-packages (from langchain_community) (2.0.32)\n",
            "Requirement already satisfied: aiohttp<4.0.0,>=3.8.3 in /usr/local/lib/python3.10/dist-packages (from langchain_community) (3.10.3)\n",
            "Requirement already satisfied: dataclasses-json<0.7,>=0.5.7 in /usr/local/lib/python3.10/dist-packages (from langchain_community) (0.6.7)\n",
            "Requirement already satisfied: langchain<0.3.0,>=0.2.13 in /usr/local/lib/python3.10/dist-packages (from langchain_community) (0.2.14)\n",
            "Requirement already satisfied: langchain-core<0.3.0,>=0.2.30 in /usr/local/lib/python3.10/dist-packages (from langchain_community) (0.2.34)\n",
            "Requirement already satisfied: langsmith<0.2.0,>=0.1.0 in /usr/local/lib/python3.10/dist-packages (from langchain_community) (0.1.101)\n",
            "Requirement already satisfied: numpy<2,>=1 in /usr/local/lib/python3.10/dist-packages (from langchain_community) (1.26.4)\n",
            "Requirement already satisfied: requests<3,>=2 in /usr/local/lib/python3.10/dist-packages (from langchain_community) (2.32.3)\n",
            "Requirement already satisfied: tenacity!=8.4.0,<9.0.0,>=8.1.0 in /usr/local/lib/python3.10/dist-packages (from langchain_community) (8.5.0)\n",
            "Requirement already satisfied: pinecone-client<6.0.0,>=5.0.0 in /usr/local/lib/python3.10/dist-packages (from langchain_pinecone) (5.0.1)\n",
            "Requirement already satisfied: openai<2.0.0,>=1.40.0 in /usr/local/lib/python3.10/dist-packages (from langchain_openai) (1.42.0)\n",
            "Requirement already satisfied: tiktoken<1,>=0.7 in /usr/local/lib/python3.10/dist-packages (from langchain_openai) (0.7.0)\n",
            "Requirement already satisfied: chardet in /usr/local/lib/python3.10/dist-packages (from unstructured) (5.2.0)\n",
            "Requirement already satisfied: filetype in /usr/local/lib/python3.10/dist-packages (from unstructured) (1.2.0)\n",
            "Requirement already satisfied: python-magic in /usr/local/lib/python3.10/dist-packages (from unstructured) (0.4.27)\n",
            "Requirement already satisfied: lxml in /usr/local/lib/python3.10/dist-packages (from unstructured) (4.9.4)\n",
            "Requirement already satisfied: nltk in /usr/local/lib/python3.10/dist-packages (from unstructured) (3.9.1)\n",
            "Requirement already satisfied: tabulate in /usr/local/lib/python3.10/dist-packages (from unstructured) (0.9.0)\n",
            "Requirement already satisfied: beautifulsoup4 in /usr/local/lib/python3.10/dist-packages (from unstructured) (4.12.3)\n",
            "Requirement already satisfied: emoji in /usr/local/lib/python3.10/dist-packages (from unstructured) (2.12.1)\n",
            "Requirement already satisfied: python-iso639 in /usr/local/lib/python3.10/dist-packages (from unstructured) (2024.4.27)\n",
            "Requirement already satisfied: langdetect in /usr/local/lib/python3.10/dist-packages (from unstructured) (1.0.9)\n",
            "Requirement already satisfied: rapidfuzz in /usr/local/lib/python3.10/dist-packages (from unstructured) (3.9.6)\n",
            "Requirement already satisfied: backoff in /usr/local/lib/python3.10/dist-packages (from unstructured) (2.2.1)\n",
            "Requirement already satisfied: typing-extensions in /usr/local/lib/python3.10/dist-packages (from unstructured) (4.12.2)\n",
            "Requirement already satisfied: unstructured-client in /usr/local/lib/python3.10/dist-packages (from unstructured) (0.25.5)\n",
            "Requirement already satisfied: wrapt in /usr/local/lib/python3.10/dist-packages (from unstructured) (1.16.0)\n",
            "Requirement already satisfied: tqdm in /usr/local/lib/python3.10/dist-packages (from unstructured) (4.66.5)\n",
            "Requirement already satisfied: psutil in /usr/local/lib/python3.10/dist-packages (from unstructured) (5.9.5)\n",
            "Requirement already satisfied: aiohappyeyeballs>=2.3.0 in /usr/local/lib/python3.10/dist-packages (from aiohttp<4.0.0,>=3.8.3->langchain_community) (2.3.5)\n",
            "Requirement already satisfied: aiosignal>=1.1.2 in /usr/local/lib/python3.10/dist-packages (from aiohttp<4.0.0,>=3.8.3->langchain_community) (1.3.1)\n",
            "Requirement already satisfied: attrs>=17.3.0 in /usr/local/lib/python3.10/dist-packages (from aiohttp<4.0.0,>=3.8.3->langchain_community) (24.2.0)\n",
            "Requirement already satisfied: frozenlist>=1.1.1 in /usr/local/lib/python3.10/dist-packages (from aiohttp<4.0.0,>=3.8.3->langchain_community) (1.4.1)\n",
            "Requirement already satisfied: multidict<7.0,>=4.5 in /usr/local/lib/python3.10/dist-packages (from aiohttp<4.0.0,>=3.8.3->langchain_community) (6.0.5)\n",
            "Requirement already satisfied: yarl<2.0,>=1.0 in /usr/local/lib/python3.10/dist-packages (from aiohttp<4.0.0,>=3.8.3->langchain_community) (1.9.4)\n",
            "Requirement already satisfied: async-timeout<5.0,>=4.0 in /usr/local/lib/python3.10/dist-packages (from aiohttp<4.0.0,>=3.8.3->langchain_community) (4.0.3)\n",
            "Requirement already satisfied: marshmallow<4.0.0,>=3.18.0 in /usr/local/lib/python3.10/dist-packages (from dataclasses-json<0.7,>=0.5.7->langchain_community) (3.22.0)\n",
            "Requirement already satisfied: typing-inspect<1,>=0.4.0 in /usr/local/lib/python3.10/dist-packages (from dataclasses-json<0.7,>=0.5.7->langchain_community) (0.9.0)\n",
            "Requirement already satisfied: pydantic<3,>=1 in /usr/local/lib/python3.10/dist-packages (from langchain<0.3.0,>=0.2.13->langchain_community) (2.8.2)\n",
            "Requirement already satisfied: jsonpatch<2.0,>=1.33 in /usr/local/lib/python3.10/dist-packages (from langchain-core<0.3.0,>=0.2.30->langchain_community) (1.33)\n",
            "Requirement already satisfied: packaging<25,>=23.2 in /usr/local/lib/python3.10/dist-packages (from langchain-core<0.3.0,>=0.2.30->langchain_community) (24.1)\n",
            "Requirement already satisfied: httpx<1,>=0.23.0 in /usr/local/lib/python3.10/dist-packages (from langsmith<0.2.0,>=0.1.0->langchain_community) (0.27.0)\n",
            "Requirement already satisfied: orjson<4.0.0,>=3.9.14 in /usr/local/lib/python3.10/dist-packages (from langsmith<0.2.0,>=0.1.0->langchain_community) (3.10.7)\n",
            "Requirement already satisfied: anyio<5,>=3.5.0 in /usr/local/lib/python3.10/dist-packages (from openai<2.0.0,>=1.40.0->langchain_openai) (3.7.1)\n",
            "Requirement already satisfied: distro<2,>=1.7.0 in /usr/lib/python3/dist-packages (from openai<2.0.0,>=1.40.0->langchain_openai) (1.7.0)\n",
            "Requirement already satisfied: jiter<1,>=0.4.0 in /usr/local/lib/python3.10/dist-packages (from openai<2.0.0,>=1.40.0->langchain_openai) (0.5.0)\n",
            "Requirement already satisfied: sniffio in /usr/local/lib/python3.10/dist-packages (from openai<2.0.0,>=1.40.0->langchain_openai) (1.3.1)\n",
            "Requirement already satisfied: certifi>=2019.11.17 in /usr/local/lib/python3.10/dist-packages (from pinecone-client<6.0.0,>=5.0.0->langchain_pinecone) (2024.7.4)\n",
            "Requirement already satisfied: pinecone-plugin-inference<2.0.0,>=1.0.3 in /usr/local/lib/python3.10/dist-packages (from pinecone-client<6.0.0,>=5.0.0->langchain_pinecone) (1.0.3)\n",
            "Requirement already satisfied: pinecone-plugin-interface<0.0.8,>=0.0.7 in /usr/local/lib/python3.10/dist-packages (from pinecone-client<6.0.0,>=5.0.0->langchain_pinecone) (0.0.7)\n",
            "Requirement already satisfied: urllib3>=1.26.0 in /usr/local/lib/python3.10/dist-packages (from pinecone-client<6.0.0,>=5.0.0->langchain_pinecone) (2.0.7)\n",
            "Requirement already satisfied: charset-normalizer<4,>=2 in /usr/local/lib/python3.10/dist-packages (from requests<3,>=2->langchain_community) (3.3.2)\n",
            "Requirement already satisfied: idna<4,>=2.5 in /usr/local/lib/python3.10/dist-packages (from requests<3,>=2->langchain_community) (3.7)\n",
            "Requirement already satisfied: greenlet!=0.4.17 in /usr/local/lib/python3.10/dist-packages (from SQLAlchemy<3,>=1.4->langchain_community) (3.0.3)\n",
            "Requirement already satisfied: regex>=2022.1.18 in /usr/local/lib/python3.10/dist-packages (from tiktoken<1,>=0.7->langchain_openai) (2024.7.24)\n",
            "Requirement already satisfied: soupsieve>1.2 in /usr/local/lib/python3.10/dist-packages (from beautifulsoup4->unstructured) (2.6)\n",
            "Requirement already satisfied: six in /usr/local/lib/python3.10/dist-packages (from langdetect->unstructured) (1.16.0)\n",
            "Requirement already satisfied: click in /usr/local/lib/python3.10/dist-packages (from nltk->unstructured) (8.1.7)\n",
            "Requirement already satisfied: joblib in /usr/local/lib/python3.10/dist-packages (from nltk->unstructured) (1.4.2)\n",
            "Requirement already satisfied: deepdiff>=6.0 in /usr/local/lib/python3.10/dist-packages (from unstructured-client->unstructured) (7.0.1)\n",
            "Requirement already satisfied: jsonpath-python>=1.0.6 in /usr/local/lib/python3.10/dist-packages (from unstructured-client->unstructured) (1.0.6)\n",
            "Requirement already satisfied: mypy-extensions>=1.0.0 in /usr/local/lib/python3.10/dist-packages (from unstructured-client->unstructured) (1.0.0)\n",
            "Requirement already satisfied: nest-asyncio>=1.6.0 in /usr/local/lib/python3.10/dist-packages (from unstructured-client->unstructured) (1.6.0)\n",
            "Requirement already satisfied: pypdf>=4.0 in /usr/local/lib/python3.10/dist-packages (from unstructured-client->unstructured) (4.3.1)\n",
            "Requirement already satisfied: python-dateutil>=2.8.2 in /usr/local/lib/python3.10/dist-packages (from unstructured-client->unstructured) (2.8.2)\n",
            "Requirement already satisfied: requests-toolbelt>=1.0.0 in /usr/local/lib/python3.10/dist-packages (from unstructured-client->unstructured) (1.0.0)\n",
            "Requirement already satisfied: exceptiongroup in /usr/local/lib/python3.10/dist-packages (from anyio<5,>=3.5.0->openai<2.0.0,>=1.40.0->langchain_openai) (1.2.2)\n",
            "Requirement already satisfied: ordered-set<4.2.0,>=4.1.0 in /usr/local/lib/python3.10/dist-packages (from deepdiff>=6.0->unstructured-client->unstructured) (4.1.0)\n",
            "Requirement already satisfied: httpcore==1.* in /usr/local/lib/python3.10/dist-packages (from httpx<1,>=0.23.0->langsmith<0.2.0,>=0.1.0->langchain_community) (1.0.5)\n",
            "Requirement already satisfied: h11<0.15,>=0.13 in /usr/local/lib/python3.10/dist-packages (from httpcore==1.*->httpx<1,>=0.23.0->langsmith<0.2.0,>=0.1.0->langchain_community) (0.14.0)\n",
            "Requirement already satisfied: jsonpointer>=1.9 in /usr/local/lib/python3.10/dist-packages (from jsonpatch<2.0,>=1.33->langchain-core<0.3.0,>=0.2.30->langchain_community) (3.0.0)\n",
            "Requirement already satisfied: annotated-types>=0.4.0 in /usr/local/lib/python3.10/dist-packages (from pydantic<3,>=1->langchain<0.3.0,>=0.2.13->langchain_community) (0.7.0)\n",
            "Requirement already satisfied: pydantic-core==2.20.1 in /usr/local/lib/python3.10/dist-packages (from pydantic<3,>=1->langchain<0.3.0,>=0.2.13->langchain_community) (2.20.1)\n"
          ]
        }
      ]
    },
    {
      "cell_type": "code",
      "source": [
        "from langchain_pinecone import PineconeVectorStore\n",
        "from langchain_openai import OpenAIEmbeddings\n",
        "from langchain_community.document_loaders import DirectoryLoader\n",
        "from langchain.text_splitter import RecursiveCharacterTextSplitter\n",
        "import os\n",
        "import glob"
      ],
      "metadata": {
        "id": "gN8FyQh1fApB"
      },
      "execution_count": 4,
      "outputs": []
    },
    {
      "cell_type": "code",
      "source": [
        "loader = DirectoryLoader('portfolio', glob=\"**/*.mdx\")\n",
        "docs = loader.load()"
      ],
      "metadata": {
        "id": "zJ42eq2OkuB5"
      },
      "execution_count": 28,
      "outputs": []
    },
    {
      "cell_type": "code",
      "source": [
        "docs[2]"
      ],
      "metadata": {
        "colab": {
          "base_uri": "https://localhost:8080/"
        },
        "id": "ABIWxQ0ulTLS",
        "outputId": "b779f2b0-7e30-4b33-b919-b11a59abdfcb"
      },
      "execution_count": 31,
      "outputs": [
        {
          "output_type": "execute_result",
          "data": {
            "text/plain": [
              "Document(metadata={'source': 'portfolio/src/app/videos/canyonrunner-playthrough/page.mdx'}, page_content='import { ArticleLayout } from \\'@/components/ArticleLayout\\'\\n\\nimport canyonRunnerTitle from \\'@/images/canyonrunner\\n\\ntitle\\n\\nscreen.webp\\'\\n\\nimport { createMetadata } from \\'@/utils/createMetadata\\'\\n\\nexport const metadata = createMetadata({ author: \"Zachary Proser\", date: \"2015-07-11\", title: \"A full play through of my HTML5 game, CanyonRunner\", description: \"I built a complete game using the Phaser.js game development framework\", image: canyonRunnerTitle })\\n\\nexport default (props) => <ArticleLayout metadata={metadata} {...props} />\\n\\n<iframe class=\"youtube-video\" src=\"https://www.youtube.com/embed/DP49IKYYzZc\" title=\"A full play through of my HTML5 game, CanyonRunner\" frameborder=\"0\" allow=\"fullscreen;\"> </iframe>\\n\\nCanyonRunner is a complete HTML5 game that I built with the Phaser.js framework. I wrote about how the game works in my [blog post here](/blog/canyonrunner-html5-game).')"
            ]
          },
          "metadata": {},
          "execution_count": 31
        }
      ]
    },
    {
      "cell_type": "code",
      "source": [
        "from google.colab import userdata\n",
        "os.environ['OPENAI_API_KEY'] = userdata.get('OPENAI_API_KEY')\n",
        "os.environ['PINECONE_API_KEY'] = userdata.get('PINECONE_API_KEY')"
      ],
      "metadata": {
        "id": "8aiJCcHDlg-u"
      },
      "execution_count": 32,
      "outputs": []
    },
    {
      "cell_type": "code",
      "source": [
        "embeddings = OpenAIEmbeddings(model='text-embedding-3-small')\n",
        "index_name = 'pinecone-chatbot'\n",
        "\n",
        "#splitting our documents into chunks\n",
        "text_splitter = RecursiveCharacterTextSplitter()\n",
        "split_docs = text_splitter.split_documents(docs)\n"
      ],
      "metadata": {
        "id": "hIgkunEynfSt"
      },
      "execution_count": 33,
      "outputs": []
    },
    {
      "cell_type": "code",
      "source": [
        "split_docs[4]"
      ],
      "metadata": {
        "colab": {
          "base_uri": "https://localhost:8080/"
        },
        "id": "Rw0jtoBXohUL",
        "outputId": "95b53d99-ef5d-45c4-9798-069713bd2f12"
      },
      "execution_count": 34,
      "outputs": [
        {
          "output_type": "execute_result",
          "data": {
            "text/plain": [
              "Document(metadata={'source': 'portfolio/src/app/videos/what-is-a-vector-database/page.mdx'}, page_content='import { ArticleLayout } from \\'@/components/ArticleLayout\\'\\n\\nimport whatIsAVectorDB from \\'@/images/what\\n\\nis\\n\\na\\n\\nvector\\n\\ndb\\n\\nthumb.webp\\'\\n\\nimport { createMetadata } from \\'@/utils/createMetadata\\'\\n\\nexport const metadata = createMetadata({ author: \"Zachary Proser\", date: \"2023-10-19\", title: \"What is a vector database? \", description: \"Vector databases explained, featuring clowns, embeddings, neural networks, feature extraction, semantic search and Retrieval Augmented Generation (RAG). \", image: whatIsAVectorDB })\\n\\nexport default (props) => <ArticleLayout metadata={metadata} {...props} />\\n\\n<iframe\\n\\nclassName=\"youtube\\n\\nvideo\"\\n\\nsrc=\"https://www.youtube.com/embed/wc3Lh\\n\\neiNBM\"\\n\\ntitle=\"YouTube video player\"\\n\\nallow=\"fullscreen;\">\\n\\n</iframe>\\n\\nI walk through what a vector database is, by first explaining the types of problems that vector databases solve, as well as how AI \"thinks\".\\n\\nI use clowns as an example of a large corpus of training data from which we can extract high level features, and I discuss architectures such as semantic search and RAG.')"
            ]
          },
          "metadata": {},
          "execution_count": 34
        }
      ]
    },
    {
      "cell_type": "code",
      "source": [
        "#creating a vectorstore\n",
        "vectorstore = PineconeVectorStore.from_documents(\n",
        "    documents=split_docs,\n",
        "    embedding=embeddings,\n",
        "    index_name=index_name\n",
        ")"
      ],
      "metadata": {
        "id": "DMHPhfYro1li"
      },
      "execution_count": 35,
      "outputs": []
    },
    {
      "cell_type": "code",
      "source": [
        "query = \"what is a programming bug?\"\n",
        "similar_docs= vectorstore.similarity_search(query)"
      ],
      "metadata": {
        "id": "FJyRvPL5pekF"
      },
      "execution_count": 36,
      "outputs": []
    },
    {
      "cell_type": "code",
      "source": [
        "similar_docs[0]"
      ],
      "metadata": {
        "colab": {
          "base_uri": "https://localhost:8080/"
        },
        "id": "GOPA_ad3pqHM",
        "outputId": "1938077b-b4b2-4cf0-d8c8-754a664d3912"
      },
      "execution_count": 37,
      "outputs": [
        {
          "output_type": "execute_result",
          "data": {
            "text/plain": [
              "Document(metadata={'source': 'portfolio/src/app/blog/first-see-if-youve-got-the-bug/page.mdx'}, page_content='import { ArticleLayout } from \\'@/components/ArticleLayout\\' import Newsletter from \\'@/components/NewsletterWrapper\\'\\n\\nimport sparkOfLearning from \\'@/images/spark\\n\\nof\\n\\nlearning.webp\\'\\n\\nimport foundTheSpark from \\'@/images/found\\n\\nthe\\n\\nspark.webp\\'\\n\\nimport programmingBug from \\'@/images/programming\\n\\nbug.webp\\'\\n\\nimport exploringProgramming from \\'@/images/exploring\\n\\nprogramming.webp\\'\\n\\nimport learningToCodeMap from \\'@/images/learning\\n\\nto\\n\\ncode\\n\\nmap.webp\\'\\n\\nimport workingHacker from \\'@/images/working\\n\\nhacker.webp\\'\\n\\nimport hookedOnHacking from \\'@/images/hooked\\n\\non\\n\\nhacking.webp\\'\\n\\nimport hackerEncouragement from \\'@/images/hacker\\n\\nencouraging.webp\\'\\n\\nimport programmingBugReleased from \\'@/images/programming\\n\\nbug\\n\\nreleased.webp\\'\\n\\nimport programmersInSnowglobe from \\'@/images/programmers\\n\\nin\\n\\nsnowglobe.webp\\'\\n\\nimport programmingIsMagic from \\'@/images/programming\\n\\nis\\n\\nmagic.webp\\'\\n\\nimport givingUpCoin from \\'@/images/giving\\n\\nup\\n\\ncoins.webp\\'\\n\\nimport descentCoverArt from \\'@/images/descent.webp\\'\\n\\nimport Image from \\'next/image\\'\\n\\nimport Link from \\'next/link\\'\\n\\nimport { createMetadata } from \\'@/utils/createMetadata\\'\\n\\nimport ConsultingCTA from \\'@/components/ConsultingCTA\\'\\n\\nexport const metadata = createMetadata({ author: \"Zachary Proser\", date: \"2023-07-17\", title: \"First, find out if you\\'ve got the programming bug\", description: \"I get this question a lot: how do I get into coding? This is my best advice. \", image: sparkOfLearning, slug: \\'/blog/first-see-if-youve-got-the-bug\\', })\\n\\nexport default (props) => <ArticleLayout metadata={metadata} {...props} />\\n\\n<Image src={foundTheSpark} />\\n\\n> I\\'m thinking about learning to code. Which laptop should I get? Should I do a bootcamp? Does my child need special classes or prep in order to tackle a computer science degree?\\n\\nA lot of different folks ask me if they should learn to code, if software development is a good career trajectory for them or their children, and what they need to study in school in order to be successful.\\n\\n## Here\\'s my advice in a nutshell\\n\\nBefore you should worry about any of that: your major, which school you\\'re trying to get your kid into, which laptop you should purchase, you need to figure out if you (or your kid) have the \"programming bug\".\\n\\nThis will require a bit of exploration and effort on your part, but the good news is there\\'s a ton of high quality and free resources online that will give you enough of a taste for coding and building to help you determine if this is something worth pursuing as a career or hobby. I\\'ll share some of my favorites in this post.\\n\\n<Image src={sparkOfLearning} />\\n\\n## What is the programming bug?\\n\\n\"The programming bug\" is the spark of innate curiosity that drives your learning forward. Innate meaning that it\\'s coming from you - other people don\\'t need to push you to do it.\\n\\n<Image src={programmingBug} />\\n\\nIn software development, coding, systems engineering, machine learning, data science; basically, in working with computers while also possibly working with people - there are periods of profound frustration and tedium, punctuated by anxiety and stress.\\n\\nI have personally reached a level of frustration that brought tears to my eyes countless times. If you pursue the path of a digital craftsperson, be assured that you will, too. Especially in the beginning. That\\'s okay.\\n\\nI also happen to think that being able to describe to machines of all shapes and sizes exactly what you want them to do in their own languages; to solve problems in collaboration with machines, and to be able to bring an idea from your imagination all the way to a publicly accessible piece of software that people from around the world use and find utility or joy in - borders on magic.\\n\\n<Image src={programmingIsMagic} alt=\"Programming is magic\" />\\n\\n<Newsletter />\\n\\n## The spark of curiosity allows you to continually re-ignite your own passion for the craft')"
            ]
          },
          "metadata": {},
          "execution_count": 37
        }
      ]
    },
    {
      "cell_type": "code",
      "source": [
        "from langchain_openai import ChatOpenAI\n",
        "from langchain.chains import RetrievalQA\n",
        "\n",
        "#creating a full rag pipeline\n",
        "llm = ChatOpenAI(model='gpt-4o')\n",
        "qa_chain = RetrievalQA.from_chain_type(\n",
        "    llm,\n",
        "    retriever=vectorstore.as_retriever()\n",
        ")\n",
        "\n",
        "llm.invoke(query)"
      ],
      "metadata": {
        "colab": {
          "base_uri": "https://localhost:8080/"
        },
        "id": "act---Lnp6Lt",
        "outputId": "f5633e43-0d6e-421e-d581-8274e4fde804"
      },
      "execution_count": 38,
      "outputs": [
        {
          "output_type": "execute_result",
          "data": {
            "text/plain": [
              "AIMessage(content=\"A programming bug is an error, flaw, or fault in a software program that causes it to produce incorrect or unexpected results, or to behave in unintended ways. Bugs can occur for a variety of reasons, including mistakes in the code, incorrect logic, incomplete requirements, or unforeseen interactions with other software components or systems.\\n\\nCommon types of programming bugs include:\\n\\n1. **Syntax Errors**: Mistakes in the code's syntax that prevent the program from running, such as missing semicolons, mismatched parentheses, or misspelled keywords.\\n\\n2. **Logic Errors**: Errors in the program's logic that lead to incorrect behavior, even though the code may run without crashing. For example, a loop that iterates one too many or one too few times.\\n\\n3. **Runtime Errors**: Errors that occur while the program is running, often leading to crashes or unexpected behavior. These can be caused by issues such as dividing by zero or accessing invalid memory.\\n\\n4. **Semantic Errors**: Errors where the code is syntactically correct but does not do what the programmer intended. For example, using the wrong variable in a calculation.\\n\\n5. **Off-by-one Errors**: A common type of logic error where a loop iterates one time too many or one time too few.\\n\\n6. **Concurrency Issues**: Bugs that occur in multi-threaded programs where the timing of thread execution leads to unexpected states, such as race conditions or deadlocks.\\n\\n7. **Memory Leaks**: Situations where a program allocates memory but fails to release it, leading to increasing memory usage and potential crashes.\\n\\n8. **Integration Errors**: Issues that arise when combining different software modules or systems, often due to mismatched interfaces or assumptions.\\n\\nDebugging is the process of identifying, isolating, and fixing these bugs in a program. Tools like debuggers, static code analyzers, and logging mechanisms can help developers find and resolve bugs more efficiently.\", additional_kwargs={'refusal': None}, response_metadata={'token_usage': {'completion_tokens': 394, 'prompt_tokens': 13, 'total_tokens': 407}, 'model_name': 'gpt-4o-2024-05-13', 'system_fingerprint': 'fp_3aa7262c27', 'finish_reason': 'stop', 'logprobs': None}, id='run-c12cb84f-122b-43ff-85cc-85e6ea1e6e75-0', usage_metadata={'input_tokens': 13, 'output_tokens': 394, 'total_tokens': 407})"
            ]
          },
          "metadata": {},
          "execution_count": 38
        }
      ]
    }
  ]
}